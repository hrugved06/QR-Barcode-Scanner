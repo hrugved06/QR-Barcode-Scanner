{
  "nbformat": 4,
  "nbformat_minor": 0,
  "metadata": {
    "colab": {
      "name": "Barcode.ipynb",
      "provenance": [],
      "collapsed_sections": []
    },
    "kernelspec": {
      "name": "python3",
      "display_name": "Python 3"
    },
    "language_info": {
      "name": "python"
    }
  },
  "cells": [
    {
      "cell_type": "markdown",
      "metadata": {
        "id": "79MjgLcaGlCg"
      },
      "source": [
        "# QRcode/Barcode Scanner "
      ]
    },
    {
      "cell_type": "markdown",
      "metadata": {
        "id": "VVZ_QqGCGrhI"
      },
      "source": [
        "`Sample code`"
      ]
    },
    {
      "cell_type": "code",
      "metadata": {
        "colab": {
          "base_uri": "https://localhost:8080/"
        },
        "id": "gic2b1md14Ml",
        "outputId": "aca2a998-7f6e-4f32-e14c-81cecae583d4"
      },
      "source": [
        "!pip install Pillow"
      ],
      "execution_count": 8,
      "outputs": [
        {
          "output_type": "stream",
          "text": [
            "Requirement already satisfied: Pillow in /usr/local/lib/python3.7/dist-packages (7.1.2)\n"
          ],
          "name": "stdout"
        }
      ]
    },
    {
      "cell_type": "code",
      "metadata": {
        "colab": {
          "base_uri": "https://localhost:8080/"
        },
        "id": "NpltStcI16tX",
        "outputId": "40ec1b4d-302e-4a97-bdb4-428a7662978c"
      },
      "source": [
        "!pip install opencv-python"
      ],
      "execution_count": 9,
      "outputs": [
        {
          "output_type": "stream",
          "text": [
            "Requirement already satisfied: opencv-python in /usr/local/lib/python3.7/dist-packages (4.1.2.30)\n",
            "Requirement already satisfied: numpy>=1.14.5 in /usr/local/lib/python3.7/dist-packages (from opencv-python) (1.19.5)\n"
          ],
          "name": "stdout"
        }
      ]
    },
    {
      "cell_type": "code",
      "metadata": {
        "colab": {
          "base_uri": "https://localhost:8080/"
        },
        "id": "GRPT4bGF25io",
        "outputId": "aceb3b9a-a950-4dc5-80e5-eda50a392d12"
      },
      "source": [
        "!apt install libzbar0"
      ],
      "execution_count": 10,
      "outputs": [
        {
          "output_type": "stream",
          "text": [
            "Reading package lists... Done\n",
            "Building dependency tree       \n",
            "Reading state information... Done\n",
            "libzbar0 is already the newest version (0.10+doc-10.1build2).\n",
            "0 upgraded, 0 newly installed, 0 to remove and 40 not upgraded.\n"
          ],
          "name": "stdout"
        }
      ]
    },
    {
      "cell_type": "code",
      "metadata": {
        "colab": {
          "base_uri": "https://localhost:8080/"
        },
        "id": "kc1X7UW-17ge",
        "outputId": "2e7b7b0a-03c9-414f-d58a-ec739795e0e0"
      },
      "source": [
        "!pip install pyzbar\n"
      ],
      "execution_count": 11,
      "outputs": [
        {
          "output_type": "stream",
          "text": [
            "Requirement already satisfied: pyzbar in /usr/local/lib/python3.7/dist-packages (0.1.8)\n"
          ],
          "name": "stdout"
        }
      ]
    },
    {
      "cell_type": "code",
      "metadata": {
        "id": "nIO320TA13Le"
      },
      "source": [
        "import cv2\n",
        "from pyzbar import pyzbar"
      ],
      "execution_count": 12,
      "outputs": []
    },
    {
      "cell_type": "code",
      "metadata": {
        "id": "YgWBwbGT3EZA"
      },
      "source": [
        "def read_barcodes(frame):\n",
        "    barcodes = pyzbar.decode(frame)\n",
        "    for barcode in barcodes:\n",
        "        x, y , w, h = barcode.rect\n",
        "        #1\n",
        "        barcode_info = barcode.data.decode('utf-8')\n",
        "        cv2.rectangle(frame, (x, y),(x+w, y+h), (0, 255, 0), 2)\n",
        "        \n",
        "        #2\n",
        "        font = cv2.FONT_HERSHEY_DUPLEX\n",
        "        cv2.putText(frame, barcode_info, (x + 6, y - 6), font, 2.0, (255, 255, 255), 1)\n",
        "        #3\n",
        "        with open(\"barcode_result.txt\", mode ='w') as file:\n",
        "            file.write(\"Recognized Barcode:\" + barcode_info)\n",
        "    return frame"
      ],
      "execution_count": 13,
      "outputs": []
    },
    {
      "cell_type": "code",
      "metadata": {
        "id": "7fHH2kpn3IX2"
      },
      "source": [
        "def main():\n",
        "    #1\n",
        "    camera = cv2.VideoCapture(0)\n",
        "    ret, frame = camera.read()\n",
        "    #2\n",
        "    while ret:\n",
        "        ret, frame = camera.read()\n",
        "        frame = read_barcodes(frame)\n",
        "        cv2.imshow('Barcode/QR code reader', frame)\n",
        "        if cv2.waitKey(1) & 0xFF == 27:\n",
        "            break\n",
        "    #3\n",
        "    camera.release()\n",
        "    cv2.destroyAllWindows()\n",
        "#4\n",
        "if __name__ == '__main__':\n",
        "    main()"
      ],
      "execution_count": 14,
      "outputs": []
    }
  ]
}